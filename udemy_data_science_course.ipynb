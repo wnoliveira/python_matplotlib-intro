{
  "nbformat": 4,
  "nbformat_minor": 0,
  "metadata": {
    "colab": {
      "name": "udemy data science course.ipynb",
      "provenance": [],
      "collapsed_sections": [],
      "toc_visible": true
    },
    "kernelspec": {
      "name": "python3",
      "display_name": "Python 3"
    }
  },
  "cells": [
    {
      "cell_type": "markdown",
      "metadata": {
        "id": "s4IlEEjQwalh",
        "colab_type": "text"
      },
      "source": [
        "*Este notebook apresenta os códigos e anotações pessoais desenvolvidos durante o curso de [visualização de dados com python](https://www.udemy.com/course/visualizacao-de-dados-com-python) disponível na Udemy. Na data de criação deste notebook, o curso encontra-se gratuito. Indico para iniciantes!*\n",
        "<br />\n",
        "<br />\n",
        "O conteúdo do notebook é disponibilizado sob a licensa [Creative Commons](https://creativecommons.org/licenses/by-sa/4.0/).\n",
        "** ** \n",
        "<a href=\"https://colab.research.google.com/github/wnoliveira/python_matplotlib-intro/blob/master/udemy_data_science_course.ipynb\" target=\"_blank\"><img align=\"left\" src=\"https://colab.research.google.com/assets/colab-badge.svg\" alt=\"Open in Colab\" title=\"Open and Execute in Google Colaboratory\"></a> \n",
        "\n",
        "<a href=\"https://github.com/wnoliveira/python_matplotlib-intro/blob/master/udemy_data_science_course.ipynb\" target=\"_blank\"><img align=\"left\" src=\"https://img.shields.io/badge/GitHub-Open%20source-green?logo=github&style=plastic.svg\"></a>\n",
        "\n"
      ]
    },
    {
      "cell_type": "markdown",
      "metadata": {
        "id": "IN8fw-Wy0bNy",
        "colab_type": "text"
      },
      "source": [
        "# Sobre este notebook"
      ]
    },
    {
      "cell_type": "markdown",
      "metadata": {
        "id": "Hv2kh7F50xxc",
        "colab_type": "text"
      },
      "source": [
        "O conteúdo deste notebook refere-se aos códigos de teste e exemplo do [curso de visualização de dados com python](https://www.udemy.com/course/visualizacao-de-dados-com-python/) (data science) na Udemy.\n",
        "\n",
        "Os códigos serão identificados e comentados no formato abaixo:"
      ]
    },
    {
      "cell_type": "code",
      "metadata": {
        "id": "MO_owy8oz1cH",
        "colab_type": "code",
        "colab": {
          "base_uri": "https://localhost:8080/",
          "height": 34
        },
        "outputId": "71accb3e-86ca-4351-a3fd-a62402cfca09"
      },
      "source": [
        "print(\"hello f. world!\")"
      ],
      "execution_count": null,
      "outputs": [
        {
          "output_type": "stream",
          "text": [
            "hello f. world!\n"
          ],
          "name": "stdout"
        }
      ]
    },
    {
      "cell_type": "markdown",
      "metadata": {
        "id": "VvkKaZEh1Nh3",
        "colab_type": "text"
      },
      "source": [
        "# matplotlib\n",
        "\n",
        "\n",
        "Referências utilizadas:\n",
        "*   [Documentação oficial](https://matplotlib.org/api/_as_gen/matplotlib.pyplot.plot.html)\n",
        "*   [Exemplos de utilização](https://matplotlib.org/tutorials/introductory/sample_plots.html#sphx-glr-tutorials-introductory-sample-plots-py)\n",
        "\n",
        "\n"
      ]
    },
    {
      "cell_type": "markdown",
      "metadata": {
        "id": "awX5ncFXuogZ",
        "colab_type": "text"
      },
      "source": [
        "### Cores, marcadores e tipos de traço"
      ]
    },
    {
      "cell_type": "markdown",
      "metadata": {
        "id": "qyr9fZXtP-Fj",
        "colab_type": "text"
      },
      "source": [
        "O formato de string utilizado para a configuração do gráfico é dado da seguinte forma:\n",
        "\n",
        "``` python\n",
        "fmt = '[marker][line][color]'\n",
        "```"
      ]
    },
    {
      "cell_type": "markdown",
      "metadata": {
        "id": "oXQY8KDRe8Hu",
        "colab_type": "text"
      },
      "source": [
        "#### Marcadores\n",
        "\n",
        "| character | description           |\n",
        "|-----------|-----------------------|\n",
        "| `.`       | point marker          |\n",
        "| `,`       | pixel marker          |\n",
        "| `o`       | circle marker         |\n",
        "| `v`       | triangle_down marker  |\n",
        "| `^`       | triangle_up marker    |\n",
        "| `<`       | triangle_left marker  |\n",
        "| `>`       | triangle_right marker |\n",
        "| `1`       | tri_down marker       |\n",
        "| `2`       | tri_up marker         |\n",
        "| `3`       | tri_left marker       |\n",
        "| `4`       | tri_right marker      |\n",
        "| `s`       | square marker         |\n",
        "| `p`       | pentagon marker       |\n",
        "| `*`       | star marker           |\n",
        "| `h`       | hexagon1 marker       |\n",
        "| `H`       | hexagon2 marker       |\n",
        "| `+`       | plus marker           |\n",
        "| `x`       | x marker              |\n",
        "| `D`       | diamond marker        |\n",
        "| `d`       | thin_diamond marker   |\n",
        "| `|`       | vline marker          |\n",
        "| `_`       | hline marker          |"
      ]
    },
    {
      "cell_type": "markdown",
      "metadata": {
        "id": "4tvn_kEZPV1P",
        "colab_type": "text"
      },
      "source": [
        "#### Estilos de linha\n",
        "\n",
        "| character | description         |\n",
        "|-----------|---------------------|\n",
        "| `-`       | solid line style    |\n",
        "| `--`      | dashed line style   |\n",
        "| `-.`      | dash-dot line style |\n",
        "| `:`       | dotted line style   |"
      ]
    },
    {
      "cell_type": "markdown",
      "metadata": {
        "id": "AVBkYi96Pf9A",
        "colab_type": "text"
      },
      "source": [
        "#### Cores\n",
        "\n",
        "| character | color   |\n",
        "|-----------|---------|\n",
        "| `b`       | blue    |\n",
        "| `g`       | green   |\n",
        "| `r`       | red     |\n",
        "| `c`       | cyan    |\n",
        "| `m`       | magenta |\n",
        "| `y`       | yellow  |\n",
        "| `k`       | black   |\n",
        "| `w`       | white   |"
      ]
    },
    {
      "cell_type": "markdown",
      "metadata": {
        "id": "shMJALUvYYBs",
        "colab_type": "text"
      },
      "source": [
        "## Gráfico de linhas\n",
        "\n",
        "Aulas 5 e 6"
      ]
    },
    {
      "cell_type": "markdown",
      "metadata": {
        "id": "6rW9q3LDa3YV",
        "colab_type": "text"
      },
      "source": [
        "### Gráfico simples"
      ]
    },
    {
      "cell_type": "code",
      "metadata": {
        "id": "_zNBK-f_ZLh5",
        "colab_type": "code",
        "colab": {
          "base_uri": "https://localhost:8080/",
          "height": 295
        },
        "outputId": "67148f43-e73f-46ab-ff52-9dbe6a53eccc"
      },
      "source": [
        "# Biblioteca para visualização de dados\n",
        "import matplotlib.pyplot as plt     # O uso do \"as\" serve para dar um nome à biblioteca. Como se fosse um \"typedef\" em C.\n",
        "\n",
        "# Dados a serem plotados\n",
        "x = [1, 2, 3, 4, 5]\n",
        "y = [0, 2, 4, 2, 0]\n",
        "\n",
        "# Título do gráfico\n",
        "plt.title(\"My first py graph!\")\n",
        "\n",
        "# Legenda dos eixos\n",
        "plt.xlabel(\"Eixo X\")\n",
        "plt.ylabel(\"Eixo Y\")\n",
        "\n",
        "# Exibir gráfico\n",
        "plt.plot(x, y)\n",
        "plt.show()"
      ],
      "execution_count": null,
      "outputs": [
        {
          "output_type": "display_data",
          "data": {
            "image/png": "[encoded data removed]",
            "text/plain": [
              "<Figure size 432x288 with 1 Axes>"
            ]
          },
          "metadata": {
            "tags": [],
            "needs_background": "light"
          }
        }
      ]
    },
    {
      "cell_type": "markdown",
      "metadata": {
        "colab_type": "text",
        "id": "VHv93cVPaIcp"
      },
      "source": [
        "## Gráfico de barras\n",
        "\n",
        "Aulas 7 e 8"
      ]
    },
    {
      "cell_type": "markdown",
      "metadata": {
        "id": "l45E6dsxbBpU",
        "colab_type": "text"
      },
      "source": [
        "### Gráfico simples"
      ]
    },
    {
      "cell_type": "code",
      "metadata": {
        "colab_type": "code",
        "id": "QijR0rGOaIcr",
        "colab": {
          "base_uri": "https://localhost:8080/",
          "height": 295
        },
        "outputId": "9fe99006-da33-4266-f318-aea1345673d9"
      },
      "source": [
        "# Biblioteca para visualização de dados\n",
        "import matplotlib.pyplot as plt     # O uso do \"as\" serve para dar um nome à biblioteca. Como se fosse um \"typedef\" em C.\n",
        "\n",
        "# Dados a serem plotados\n",
        "x = [1, 2, 3, 4, 5]\n",
        "y = [0, 2, 4, 2, 0]\n",
        "\n",
        "GraphTitle  = \"My second py graph\"\n",
        "GraphXLabel = \"Eixo X\"\n",
        "GraphYLabel = \"Eixo Y\"\n",
        "\n",
        "# Título e legendas\n",
        "plt.title(GraphTitle)\n",
        "plt.xlabel(GraphXLabel)\n",
        "plt.ylabel(GraphYLabel)\n",
        "\n",
        "# Exibir gráfico\n",
        "plt.bar(x, y) # bar = gráfico de barras\n",
        "plt.show()"
      ],
      "execution_count": null,
      "outputs": [
        {
          "output_type": "display_data",
          "data": {
            "image/png": "[encoded data removed]",
            "text/plain": [
              "<Figure size 432x288 with 1 Axes>"
            ]
          },
          "metadata": {
            "tags": [],
            "needs_background": "light"
          }
        }
      ]
    },
    {
      "cell_type": "markdown",
      "metadata": {
        "colab_type": "text",
        "id": "BibZvAYrbFLA"
      },
      "source": [
        "### Gráfico duplo (multiplot)"
      ]
    },
    {
      "cell_type": "code",
      "metadata": {
        "colab_type": "code",
        "id": "_Qa-aob0bFLE",
        "colab": {
          "base_uri": "https://localhost:8080/",
          "height": 295
        },
        "outputId": "29ec99c2-cea9-4681-fd4e-1f78b4332b34"
      },
      "source": [
        "# Biblioteca para visualização de dados\n",
        "import matplotlib.pyplot as plt     # O uso do \"as\" serve para dar um nome à biblioteca. Como se fosse um \"typedef\" em C.\n",
        "\n",
        "# Dados a serem plotados\n",
        "x1 = [1, 2, 3, 4, 5]\n",
        "y1 = [0, 2, 4, 2, 0]\n",
        "\n",
        "x2 = [0, 2.5, 3, 4.5, 5.5]\n",
        "y2 = [2, 2, 3, 4, 5]\n",
        "\n",
        "GraphTitle   = \"My third py graph\"\n",
        "GraphXLabel  = \"Eixo X\"\n",
        "GraphYLabel  = \"Eixo Y\"\n",
        "GraphLegend1 = \"Grupo x1 & y1\"\n",
        "GraphLegend2 = \"Grupo x2 & y2\"\n",
        "\n",
        "# Título e legendas\n",
        "plt.title(GraphTitle)\n",
        "plt.xlabel(GraphXLabel)\n",
        "plt.ylabel(GraphYLabel)\n",
        "\n",
        "# Exibir gráfico\n",
        "plt.bar(x1, y1, label = GraphLegend1) \n",
        "plt.bar(x2, y2, label = GraphLegend2) \n",
        "plt.legend()\n",
        "plt.show()"
      ],
      "execution_count": null,
      "outputs": [
        {
          "output_type": "display_data",
          "data": {
            "image/png": "[encoded data removed]",
            "text/plain": [
              "<Figure size 432x288 with 1 Axes>"
            ]
          },
          "metadata": {
            "tags": [],
            "needs_background": "light"
          }
        }
      ]
    },
    {
      "cell_type": "markdown",
      "metadata": {
        "id": "yvNBSciscXPG",
        "colab_type": "text"
      },
      "source": [
        "## Gráfico de Dispersão"
      ]
    },
    {
      "cell_type": "markdown",
      "metadata": {
        "colab_type": "text",
        "id": "dPBTofuOcbfu"
      },
      "source": [
        "### Gráfico simples"
      ]
    },
    {
      "cell_type": "code",
      "metadata": {
        "colab_type": "code",
        "id": "wCuayWR8cbfw",
        "colab": {
          "base_uri": "https://localhost:8080/",
          "height": 295
        },
        "outputId": "f74d03b7-2fd8-478f-f5f7-228f0cf2ae91"
      },
      "source": [
        "# Biblioteca para visualização de dados\n",
        "import matplotlib.pyplot as plt     # O uso do \"as\" serve para dar um nome à biblioteca. Como se fosse um \"typedef\" em C.\n",
        "\n",
        "# Dados a serem plotados\n",
        "x = [1, 2, 3, 4, 5]\n",
        "y = [0, 2, 4, 2, 0]\n",
        "\n",
        "GraphTitle  = \"Scatterplot: gráfico de dispersão\"\n",
        "GraphXLabel = \"Eixo X\"\n",
        "GraphYLabel = \"Eixo Y\"\n",
        "GraphLegend = \"My data\"\n",
        "\n",
        "# Título e legendas\n",
        "plt.title(GraphTitle)\n",
        "plt.xlabel(GraphXLabel)\n",
        "plt.ylabel(GraphYLabel)\n",
        "\n",
        "# Exibir gráfico\n",
        "plt.scatter(x, y) # scatter = dispersão\n",
        "plt.plot(x, y, color = 'r') # une os pontos com o gráfico de linhas de cor vermelha\n",
        "plt.grid() # Ativa o grid\n",
        "plt.show()"
      ],
      "execution_count": null,
      "outputs": [
        {
          "output_type": "display_data",
          "data": {
            "image/png": "[encoded data removed]",
            "text/plain": [
              "<Figure size 432x288 with 1 Axes>"
            ]
          },
          "metadata": {
            "tags": [],
            "needs_background": "light"
          }
        }
      ]
    },
    {
      "cell_type": "markdown",
      "metadata": {
        "colab_type": "text",
        "id": "VqY4PzVJoHlU"
      },
      "source": [
        "### Gráfico customizado\n",
        "\n",
        "Exemplo melhorado com download de imagem. Referências a mais: https://jakevdp.github.io/PythonDataScienceHandbook/"
      ]
    },
    {
      "cell_type": "code",
      "metadata": {
        "colab_type": "code",
        "id": "tg0uwpUtoHla",
        "colab": {
          "base_uri": "https://localhost:8080/",
          "height": 295
        },
        "outputId": "7ab5d30e-cb73-4926-a4bf-cbf92b22c9ed"
      },
      "source": [
        "# Biblioteca para visualização de dados\n",
        "import matplotlib.pyplot as plt     # O uso do \"as\" serve para dar um nome à biblioteca. Como se fosse um \"typedef\" em C.\n",
        "\n",
        "%matplotlib inline\n",
        "\n",
        "# Dados a serem plotados\n",
        "x = [1, 2, 3, 4, 5]\n",
        "y = [0, 2, 4, 2, 0]\n",
        "z = [50, 500, 0, 300, 1000] # tamanho dos marcadores\n",
        "\n",
        "GraphTitle  = \"Scatterplot: gráfico de dispersão\"\n",
        "GraphXLabel = \"Eixo X\"\n",
        "GraphYLabel = \"Eixo Y\"\n",
        "GraphLegend = \"My data\"\n",
        "\n",
        "fig = plt.figure()\n",
        "\n",
        "# Título e legendas\n",
        "plt.title(GraphTitle)\n",
        "plt.xlabel(GraphXLabel)\n",
        "plt.ylabel(GraphYLabel)\n",
        "\n",
        "# Exibir gráfico\n",
        "plt.scatter(x, y, label = GraphLegend, color = 'blue', marker = '.', s = z) # scatter = dispersão\n",
        "plt.plot(x, y, color = 'r') # Une os pontos com o gráfico de linhas de cor vermelha\n",
        "plt.legend()  # Ativa as legendas\n",
        "plt.grid()    # Ativa o grid\n",
        "plt.show()"
      ],
      "execution_count": null,
      "outputs": [
        {
          "output_type": "display_data",
          "data": {
            "image/png": "[encoded data removed]",
            "text/plain": [
              "<Figure size 432x288 with 1 Axes>"
            ]
          },
          "metadata": {
            "tags": [],
            "needs_background": "light"
          }
        }
      ]
    },
    {
      "cell_type": "code",
      "metadata": {
        "id": "WvIj2_BWvqSs",
        "colab_type": "code",
        "colab": {}
      },
      "source": [
        "# Salva a figura no drive remoto (no caso do colab notebook)\n",
        "fig.savefig(\"Nome da figura.png\", dpi=300)"
      ],
      "execution_count": null,
      "outputs": []
    },
    {
      "cell_type": "code",
      "metadata": {
        "id": "ulWjg_jYuUZU",
        "colab_type": "code",
        "colab": {}
      },
      "source": [
        "# Exibe a imagem salva\n",
        "from IPython.display import Image\n",
        "\n",
        "Image('Nome da figura.png')"
      ],
      "execution_count": null,
      "outputs": []
    },
    {
      "cell_type": "code",
      "metadata": {
        "id": "h9GwkHJsluYB",
        "colab_type": "code",
        "colab": {
          "base_uri": "https://localhost:8080/",
          "height": 17
        },
        "outputId": "4eae331b-9f22-4090-b812-02ace6bb8916"
      },
      "source": [
        "# Faz o download para o client\n",
        "from google.colab import files\n",
        "\n",
        "files.download('Nome da figura.png')"
      ],
      "execution_count": null,
      "outputs": [
        {
          "output_type": "display_data",
          "data": {
            "application/javascript": [
              "\n",
              "    async function download(id, filename, size) {\n",
              "      if (!google.colab.kernel.accessAllowed) {\n",
              "        return;\n",
              "      }\n",
              "      const div = document.createElement('div');\n",
              "      const label = document.createElement('label');\n",
              "      label.textContent = `Downloading \"${filename}\": `;\n",
              "      div.appendChild(label);\n",
              "      const progress = document.createElement('progress');\n",
              "      progress.max = size;\n",
              "      div.appendChild(progress);\n",
              "      document.body.appendChild(div);\n",
              "\n",
              "      const buffers = [];\n",
              "      let downloaded = 0;\n",
              "\n",
              "      const channel = await google.colab.kernel.comms.open(id);\n",
              "      // Send a message to notify the kernel that we're ready.\n",
              "      channel.send({})\n",
              "\n",
              "      for await (const message of channel.messages) {\n",
              "        // Send a message to notify the kernel that we're ready.\n",
              "        channel.send({})\n",
              "        if (message.buffers) {\n",
              "          for (const buffer of message.buffers) {\n",
              "            buffers.push(buffer);\n",
              "            downloaded += buffer.byteLength;\n",
              "            progress.value = downloaded;\n",
              "          }\n",
              "        }\n",
              "      }\n",
              "      const blob = new Blob(buffers, {type: 'application/binary'});\n",
              "      const a = document.createElement('a');\n",
              "      a.href = window.URL.createObjectURL(blob);\n",
              "      a.download = filename;\n",
              "      div.appendChild(a);\n",
              "      a.click();\n",
              "      div.remove();\n",
              "    }\n",
              "  "
            ],
            "text/plain": [
              "<IPython.core.display.Javascript object>"
            ]
          },
          "metadata": {
            "tags": []
          }
        },
        {
          "output_type": "display_data",
          "data": {
            "application/javascript": [
              "download(\"download_f5ce62ad-4bb9-4f6d-9aef-de1f2bcc55ec\", \"Nome da figura.png\", 104793)"
            ],
            "text/plain": [
              "<IPython.core.display.Javascript object>"
            ]
          },
          "metadata": {
            "tags": []
          }
        }
      ]
    },
    {
      "cell_type": "markdown",
      "metadata": {
        "id": "wb3-2wqzdOSo",
        "colab_type": "text"
      },
      "source": [
        "# Exemplos\n",
        "\n",
        "Estudos de caso do curso de **visualização de dados com python**."
      ]
    },
    {
      "cell_type": "markdown",
      "metadata": {
        "id": "uNoOVO5md86H",
        "colab_type": "text"
      },
      "source": [
        "## Crescimento da população brasileira"
      ]
    },
    {
      "cell_type": "code",
      "metadata": {
        "id": "YkFf9kypeDMv",
        "colab_type": "code",
        "colab": {}
      },
      "source": [
        "# Importação dos dados disponibilizados pelo curso para dentro do google colab\n",
        "from google.colab import files\n",
        "\n",
        "uploaded = files.upload()\n",
        "\n",
        "for fn in uploaded.keys():\n",
        "  print('User uploaded file \"{name}\" with length {length} bytes'.format(name=fn, length=len(uploaded[fn])))"
      ],
      "execution_count": null,
      "outputs": []
    },
    {
      "cell_type": "markdown",
      "metadata": {
        "id": "b7RPCJoXRahI",
        "colab_type": "text"
      },
      "source": [
        "** ** \n",
        "<a href=\"https://colab.research.google.com/github/wnoliveira/python_matplotlib-intro/blob/master/udemy_data_science_course.ipynb\" target=\"_blank\"><img align=\"left\" src=\"https://colab.research.google.com/assets/colab-badge.svg\" alt=\"Open in Colab\" title=\"Open and Execute in Google Colaboratory\"></a> \n",
        "\n",
        "<a href=\"https://github.com/wnoliveira/python_matplotlib-intro/blob/master/udemy_data_science_course.ipynb\" target=\"_blank\"><img align=\"left\" src=\"https://img.shields.io/badge/GitHub-Open%20source-green?logo=github&style=plastic.svg\"></a>\n"
      ]
    }
  ]
}